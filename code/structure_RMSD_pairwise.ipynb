{
 "cells": [
  {
   "cell_type": "code",
   "execution_count": 1,
   "metadata": {},
   "outputs": [],
   "source": [
    "# Install dependencies\n",
    "#!pip install biopython\n",
    "#!pip install pandas"
   ]
  },
  {
   "cell_type": "code",
   "execution_count": 2,
   "metadata": {},
   "outputs": [],
   "source": [
    "from Bio.PDB import PDBParser\n",
    "from Bio.PDB import Superimposer\n",
    "\n",
    "import pandas as pd"
   ]
  },
  {
   "cell_type": "code",
   "execution_count": 3,
   "metadata": {},
   "outputs": [],
   "source": [
    "#filename1 = '../data/AF2_structures/v4/AF2_config/5J7D/single_sequence/dF106_prediction.pdb'\n",
    "#filename2 = '../data/AF2_structures/v4/AF2_config/5J7D/single_sequence/edF106_prediction.pdb'\n",
    "\n",
    "filename1 = '../input/templates/1fb0A.pdb'\n",
    "filename2 = '../input/templates/5j7d_last_G_removed.pdb'"
   ]
  },
  {
   "cell_type": "code",
   "execution_count": 4,
   "metadata": {},
   "outputs": [],
   "source": [
    "def get_CAs(structure) -> list:\n",
    "    \"\"\"Implying that we got AlphaFold2 structure with only one chain.\"\"\"\n",
    "    model = structure[0]\n",
    "    chain = model[\"A\"]\n",
    "    residues = chain.get_list()\n",
    "    CAs = [residue[\"CA\"] for residue in residues]\n",
    "    \n",
    "    return CAs\n",
    "\n",
    "def count_RMSD(filename1: str, filename2: str) -> float:\n",
    "    # Get structures from the PDB files\n",
    "    parser = PDBParser(PERMISSIVE=False) # No error in a PDB file allowed\n",
    "    structure1 = parser.get_structure(id=\"1\", file=filename1)\n",
    "    structure2 = parser.get_structure(id=\"2\", file=filename2)\n",
    "\n",
    "    # Extract alpha atoms from structures\n",
    "    alpha_atoms1 = get_CAs(structure1)\n",
    "    alpha_atoms2 = get_CAs(structure2)\n",
    "\n",
    "    # Get the superposition and print results\n",
    "    sup = Superimposer()\n",
    "    sup.set_atoms(alpha_atoms1, alpha_atoms2)\n",
    "    rmsd = sup.rms\n",
    "\n",
    "    return rmsd"
   ]
  },
  {
   "cell_type": "code",
   "execution_count": 5,
   "metadata": {},
   "outputs": [
    {
     "name": "stderr",
     "output_type": "stream",
     "text": [
      "/home/milos/Documents/Bioinformatika/BP1/KLL-venv/lib/python3.10/site-packages/Bio/PDB/PDBParser.py:388: PDBConstructionWarning: Ignoring unrecognized record 'END' at line 834\n",
      "  warnings.warn(\n",
      "/home/milos/Documents/Bioinformatika/BP1/KLL-venv/lib/python3.10/site-packages/Bio/PDB/PDBParser.py:388: PDBConstructionWarning: Ignoring unrecognized record 'END' at line 1695\n",
      "  warnings.warn(\n"
     ]
    },
    {
     "data": {
      "text/plain": [
       "1.88"
      ]
     },
     "execution_count": 5,
     "metadata": {},
     "output_type": "execute_result"
    }
   ],
   "source": [
    "round(count_RMSD(filename1, filename2), 3)"
   ]
  }
 ],
 "metadata": {
  "kernelspec": {
   "display_name": "KLL-venv",
   "language": "python",
   "name": "python3"
  },
  "language_info": {
   "codemirror_mode": {
    "name": "ipython",
    "version": 3
   },
   "file_extension": ".py",
   "mimetype": "text/x-python",
   "name": "python",
   "nbconvert_exporter": "python",
   "pygments_lexer": "ipython3",
   "version": "3.10.12"
  }
 },
 "nbformat": 4,
 "nbformat_minor": 2
}
